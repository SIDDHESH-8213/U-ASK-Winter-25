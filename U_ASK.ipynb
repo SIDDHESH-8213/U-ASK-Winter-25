{
  "nbformat": 4,
  "nbformat_minor": 0,
  "metadata": {
    "colab": {
      "provenance": [],
      "include_colab_link": true
    },
    "kernelspec": {
      "name": "python3",
      "display_name": "Python 3"
    },
    "language_info": {
      "name": "python"
    }
  },
  "cells": [
    {
      "cell_type": "markdown",
      "metadata": {
        "id": "view-in-github",
        "colab_type": "text"
      },
      "source": [
        "<a href=\"https://colab.research.google.com/github/SIDDHESH-8213/U-ASK-Winter-25/blob/main/U_ASK.ipynb\" target=\"_parent\"><img src=\"https://colab.research.google.com/assets/colab-badge.svg\" alt=\"Open In Colab\"/></a>"
      ]
    },
    {
      "cell_type": "code",
      "source": [
        "pip install rtree"
      ],
      "metadata": {
        "colab": {
          "base_uri": "https://localhost:8080/"
        },
        "id": "c6zmUUiZ9mdg",
        "outputId": "9e4b5b61-bcd9-46d4-e49c-831d36a8b6ef"
      },
      "execution_count": 37,
      "outputs": [
        {
          "output_type": "stream",
          "name": "stdout",
          "text": [
            "Requirement already satisfied: rtree in /usr/local/lib/python3.11/dist-packages (1.4.0)\n"
          ]
        }
      ]
    },
    {
      "cell_type": "code",
      "execution_count": 38,
      "metadata": {
        "id": "U_v_OOWuWA3P"
      },
      "outputs": [],
      "source": [
        "import numpy as np\n",
        "from rtree import index\n",
        "from collections import defaultdict\n",
        "from math import sqrt\n",
        "import pandas as pd\n"
      ]
    },
    {
      "cell_type": "code",
      "source": [
        "import os\n",
        "import pandas as pd\n",
        "from google.colab import drive\n",
        "drive.mount('/content/drive')"
      ],
      "metadata": {
        "colab": {
          "base_uri": "https://localhost:8080/"
        },
        "id": "hpTQt2ByGF5_",
        "outputId": "053828ec-c6d9-4554-e693-c8ad55172c32"
      },
      "execution_count": 39,
      "outputs": [
        {
          "output_type": "stream",
          "name": "stdout",
          "text": [
            "Drive already mounted at /content/drive; to attempt to forcibly remount, call drive.mount(\"/content/drive\", force_remount=True).\n"
          ]
        }
      ]
    },
    {
      "cell_type": "code",
      "source": [
        "def load_data_from_folder(folder_path):\n",
        "    dataset = []\n",
        "\n",
        "    for root, _, files in os.walk(folder_path):\n",
        "        for file in files[:1]:\n",
        "            if file.endswith(\".txt\"):\n",
        "                file_path = os.path.join(root, file)\n",
        "\n",
        "\n",
        "                with open(file_path, \"r\") as f:\n",
        "                    for line in f:\n",
        "                        parts = line.strip().split()\n",
        "                        obj_id = int(parts[0])\n",
        "                        lat, lon = float(parts[1]), float(parts[2])\n",
        "                        keyword_count = int(parts[3])\n",
        "\n",
        "\n",
        "                        keywords = [parts[i] for i in range(4, 4 + keyword_count * 2, 2)]\n",
        "\n",
        "                        dataset.append((obj_id, lat, lon, keywords))\n",
        "\n",
        "    return dataset\n",
        "\n",
        "dataset_folder = \"/content/drive/My Drive/spatial project\"\n",
        "\n",
        "data1 = load_data_from_folder(dataset_folder)\n",
        "\n",
        "\n",
        "df1 = pd.DataFrame(data1, columns=[\"Object ID\", \"Latitude\", \"Longitude\", \"Keywords\"])\n",
        "\n",
        "\n",
        "print(df1.head())\n"
      ],
      "metadata": {
        "colab": {
          "base_uri": "https://localhost:8080/"
        },
        "id": "LdLRgn23XBpb",
        "outputId": "c494fb3f-299d-4a35-c415-15c81f93881d"
      },
      "execution_count": 40,
      "outputs": [
        {
          "output_type": "stream",
          "name": "stdout",
          "text": [
            "   Object ID   Latitude   Longitude                      Keywords\n",
            "0    1500000  14.704585  121.047709                       [heart]\n",
            "1    1500001 -22.919497  -43.073003                   [big, girl]\n",
            "2    1500002  29.848982  -97.951838  [left, cheek, killing, back]\n",
            "3    1500003  37.599676 -120.863930                      [pursue]\n",
            "4    1500004  40.748709  -73.975774                   [canadians]\n"
          ]
        }
      ]
    },
    {
      "cell_type": "code",
      "source": [
        "df1.size"
      ],
      "metadata": {
        "id": "eCSSO_PvWadV",
        "colab": {
          "base_uri": "https://localhost:8080/"
        },
        "outputId": "3bf481cc-3266-4858-d802-d697776e53c9"
      },
      "execution_count": 41,
      "outputs": [
        {
          "output_type": "execute_result",
          "data": {
            "text/plain": [
              "2000000"
            ]
          },
          "metadata": {},
          "execution_count": 41
        }
      ]
    },
    {
      "cell_type": "code",
      "source": [
        "spatial_idx = index.Index()\n",
        "\n",
        "\n",
        "for obj_id, lat, lon, keywords in data1:\n",
        "    spatial_idx.insert(obj_id, (lon, lat, lon, lat))\n",
        "\n",
        "\n",
        "nearest = list(spatial_idx.nearest((-118.25, 34.0, -118.25, 34.0), 1))\n",
        "\n",
        "print(\"Nearest location ID now:\", nearest)\n",
        "\n",
        "\n",
        "print(f\"Total locations indexed: {len(data1)}\")\n"
      ],
      "metadata": {
        "colab": {
          "base_uri": "https://localhost:8080/"
        },
        "id": "qzKK5hMlZ-6n",
        "outputId": "83dbf0b6-e18a-489d-f374-6ea1330ea879"
      },
      "execution_count": 42,
      "outputs": [
        {
          "output_type": "stream",
          "name": "stdout",
          "text": [
            "Nearest location ID now: [1500117, 1500117, 1500117, 1500117, 1500117]\n",
            "Total locations indexed: 500000\n"
          ]
        }
      ]
    },
    {
      "cell_type": "code",
      "source": [
        "keyword_index = defaultdict(list)\n",
        "\n",
        "for obj_id, lat, lon, keywords in data1:\n",
        "    for keyword in keywords:\n",
        "        keyword_index[keyword].append(obj_id)\n",
        "\n",
        "\n",
        "print(\"Places that serve good burgers:\", keyword_index[\"burgers\"])\n"
      ],
      "metadata": {
        "colab": {
          "base_uri": "https://localhost:8080/"
        },
        "id": "aAMTQy4na1GS",
        "outputId": "a071c62b-82d8-4ed3-e5e6-5b3b93dc5b10"
      },
      "execution_count": 43,
      "outputs": [
        {
          "output_type": "stream",
          "name": "stdout",
          "text": [
            "Places that serve good burgers: [1505166, 1508175, 1512668, 1515706, 1520089, 1523249, 1524363, 1541293, 1545191, 1560997, 1570645, 1574594, 1585675, 1586870, 1505166, 1508175, 1512668, 1515706, 1520089, 1523249, 1524363, 1541293, 1545191, 1560997, 1570645, 1574594, 1585675, 1586870, 1505166, 1508175, 1512668, 1515706, 1520089, 1523249, 1524363, 1541293, 1545191, 1560997, 1570645, 1574594, 1585675, 1586870, 1505166, 1508175, 1512668, 1515706, 1520089, 1523249, 1524363, 1541293, 1545191, 1560997, 1570645, 1574594, 1585675, 1586870, 1505166, 1508175, 1512668, 1515706, 1520089, 1523249, 1524363, 1541293, 1545191, 1560997, 1570645, 1574594, 1585675, 1586870]\n"
          ]
        }
      ]
    },
    {
      "cell_type": "code",
      "source": [
        "def distance(lat1, lon1, lat2, lon2):\n",
        "    \"\"\"Calculate Euclidean distance (simplified for small areas).\"\"\"\n",
        "    return sqrt((lat1 - lat2) ** 2 + (lon1 - lon2) ** 2)\n"
      ],
      "metadata": {
        "id": "qnuj-GV2bV_g"
      },
      "execution_count": 44,
      "outputs": []
    },
    {
      "cell_type": "code",
      "source": [
        "def tkqn_query(lat, lon, positive_keywords, negative_keywords, k=3):\n",
        "    nearby_ids = list(spatial_idx.nearest((lon, lat, lon, lat), k * 5))\n",
        "\n",
        "    results = []\n",
        "    for obj_id in nearby_ids:\n",
        "        entry = next(d for d in data1 if d[0] == obj_id)\n",
        "        obj_lat, obj_lon, obj_keywords = entry[1], entry[2], entry[3]\n",
        "\n",
        "        print(f\"DEBUG: Checking {obj_id} - Keywords: {obj_keywords}\")\n",
        "\n",
        "\n",
        "        if any(neg in obj_keywords for neg in negative_keywords):\n",
        "            print(f\" Excluded {obj_id} (Contains {negative_keywords})\")\n",
        "            continue\n",
        "\n",
        "\n",
        "        if not any(pos in obj_keywords for pos in positive_keywords):\n",
        "            print(f\"Skipping {obj_id} (Doesn't contain {positive_keywords})\")\n",
        "            continue\n",
        "\n",
        "\n",
        "        dist = distance(lat, lon, obj_lat, obj_lon)\n",
        "        results.append((obj_id, dist))\n",
        "\n",
        "    results.sort(key=lambda x: x[1])\n",
        "    return results[:k]\n"
      ],
      "metadata": {
        "id": "qnOle6z5N5_Z"
      },
      "execution_count": 48,
      "outputs": []
    },
    {
      "cell_type": "code",
      "source": [
        "top_places = tkqn_query(40.748709 , -73.975774 , [\"canadians\"], [\"burger\"], k=3)\n",
        "print(\"Top places:\", top_places)\n"
      ],
      "metadata": {
        "colab": {
          "base_uri": "https://localhost:8080/"
        },
        "id": "3r3xmLitOD6V",
        "outputId": "6fb3c828-16bb-4f0c-d509-191445508dc0"
      },
      "execution_count": 52,
      "outputs": [
        {
          "output_type": "stream",
          "name": "stdout",
          "text": [
            "DEBUG: Checking 1500004 - Keywords: ['canadians']\n",
            "DEBUG: Checking 1500004 - Keywords: ['canadians']\n",
            "DEBUG: Checking 1500004 - Keywords: ['canadians']\n",
            "DEBUG: Checking 1500004 - Keywords: ['canadians']\n",
            "DEBUG: Checking 1500004 - Keywords: ['canadians']\n",
            "DEBUG: Checking 1593699 - Keywords: ['shit', 'write', 'couldn']\n",
            "Skipping 1593699 (Doesn't contain ['canadians'])\n",
            "DEBUG: Checking 1593699 - Keywords: ['shit', 'write', 'couldn']\n",
            "Skipping 1593699 (Doesn't contain ['canadians'])\n",
            "DEBUG: Checking 1593699 - Keywords: ['shit', 'write', 'couldn']\n",
            "Skipping 1593699 (Doesn't contain ['canadians'])\n",
            "DEBUG: Checking 1593699 - Keywords: ['shit', 'write', 'couldn']\n",
            "Skipping 1593699 (Doesn't contain ['canadians'])\n",
            "DEBUG: Checking 1593699 - Keywords: ['shit', 'write', 'couldn']\n",
            "Skipping 1593699 (Doesn't contain ['canadians'])\n",
            "DEBUG: Checking 1557546 - Keywords: []\n",
            "Skipping 1557546 (Doesn't contain ['canadians'])\n",
            "DEBUG: Checking 1557546 - Keywords: []\n",
            "Skipping 1557546 (Doesn't contain ['canadians'])\n",
            "DEBUG: Checking 1557546 - Keywords: []\n",
            "Skipping 1557546 (Doesn't contain ['canadians'])\n",
            "DEBUG: Checking 1557546 - Keywords: []\n",
            "Skipping 1557546 (Doesn't contain ['canadians'])\n",
            "DEBUG: Checking 1557546 - Keywords: []\n",
            "Skipping 1557546 (Doesn't contain ['canadians'])\n",
            "Top places: [(1500004, 5.403702426585122e-07), (1500004, 5.403702426585122e-07), (1500004, 5.403702426585122e-07)]\n"
          ]
        }
      ]
    },
    {
      "cell_type": "code",
      "source": [
        "def batch_queries(queries):\n",
        "    results = {}\n",
        "\n",
        "\n",
        "    location_groups = {}\n",
        "    for query in queries:\n",
        "        lat, lon, pos_keywords, neg_keywords, k = query\n",
        "        key = (lat, lon)\n",
        "\n",
        "        if key not in location_groups:\n",
        "            location_groups[key] = []\n",
        "        location_groups[key].append((pos_keywords, neg_keywords, k))\n",
        "\n",
        "\n",
        "    for (lat, lon), query_list in location_groups.items():\n",
        "\n",
        "        nearby_ids = list(spatial_idx.nearest((lon, lat, lon, lat), max(k for _, _, k in query_list) * 5))\n",
        "\n",
        "        for pos_keywords, neg_keywords, k in query_list:\n",
        "            query_results = []\n",
        "\n",
        "            for obj_id in nearby_ids:\n",
        "                entry = next(d for d in data1 if d[0] == obj_id)\n",
        "                obj_lat, obj_lon, obj_keywords = entry[1], entry[2], entry[3]\n",
        "\n",
        "                if any(neg in obj_keywords for neg in neg_keywords):\n",
        "                    continue\n",
        "\n",
        "                if not any(pos in obj_keywords for pos in pos_keywords):\n",
        "                    continue\n",
        "\n",
        "                dist = distance(lat, lon, obj_lat, obj_lon)\n",
        "                query_results.append((obj_id, dist))\n",
        "\n",
        "            query_results.sort(key=lambda x: x[1])\n",
        "            results[(lat, lon, tuple(pos_keywords), tuple(neg_keywords), k)] = query_results[:k]\n",
        "\n",
        "    return results\n",
        "\n",
        "\n",
        "query_list = [\n",
        "\n",
        "    (41.09032065, -85.15724857, [\"wine\"], [\"burger\"], 3),\n",
        "    (38.8973979, -77.0884415, [\"people\"], [\"burger\"], 3),\n",
        "    (41.32134264, -75.79291558, [\"concert\"], [\"video\"], 3),\n",
        "    (-6.41991, 107.46538, [\"night\"], [], 3),\n",
        "    (39.7424, -104.995, [\"drinking\"], [], 3)\n",
        "]\n",
        "\n",
        "batch_results = batch_queries(query_list)\n",
        "\n",
        "for query, result in batch_results.items():\n",
        "    print(f\"\\nQuery: {query}\")\n",
        "    print(f\"Results: {result}\")\n"
      ],
      "metadata": {
        "colab": {
          "base_uri": "https://localhost:8080/"
        },
        "id": "p0t-4fEgOHgp",
        "outputId": "ca04197e-6c43-4b2e-80c2-e3f39ee3f74a"
      },
      "execution_count": 51,
      "outputs": [
        {
          "output_type": "stream",
          "name": "stdout",
          "text": [
            "\n",
            "Query: (41.09032065, -85.15724857, ('wine',), ('burger',), 3)\n",
            "Results: []\n",
            "\n",
            "Query: (38.8973979, -77.0884415, ('people',), ('burger',), 3)\n",
            "Results: []\n",
            "\n",
            "Query: (41.32134264, -75.79291558, ('concert',), ('video',), 3)\n",
            "Results: []\n",
            "\n",
            "Query: (-6.41991, 107.46538, ('night',), (), 3)\n",
            "Results: []\n",
            "\n",
            "Query: (39.7424, -104.995, ('drinking',), (), 3)\n",
            "Results: []\n"
          ]
        }
      ]
    },
    {
      "cell_type": "code",
      "source": [
        "!pip install pyspark\n"
      ],
      "metadata": {
        "colab": {
          "base_uri": "https://localhost:8080/"
        },
        "id": "2mnEkQMDbem_",
        "outputId": "ae9bb969-14f0-40f6-c39c-0a32fd427af7"
      },
      "execution_count": 54,
      "outputs": [
        {
          "output_type": "stream",
          "name": "stdout",
          "text": [
            "Requirement already satisfied: pyspark in /usr/local/lib/python3.11/dist-packages (3.5.5)\n",
            "Requirement already satisfied: py4j==0.10.9.7 in /usr/local/lib/python3.11/dist-packages (from pyspark) (0.10.9.7)\n"
          ]
        }
      ]
    },
    {
      "cell_type": "code",
      "source": [
        "from pyspark.sql import SparkSession\n",
        "from pyspark.sql.functions import col, split, lit, array_contains\n",
        "from pyspark.sql.types import StructType, StructField, IntegerType, FloatType, StringType\n",
        "import math\n",
        "\n",
        "spark = SparkSession.builder.appName(\"POWER-KNN\").getOrCreate()\n",
        "\n",
        "schema = StructType([\n",
        "    StructField(\"id\", IntegerType(), True),\n",
        "    StructField(\"latitude\", FloatType(), True),\n",
        "    StructField(\"longitude\", FloatType(), True),\n",
        "    StructField(\"keyword_count\", IntegerType(), True),\n",
        "    StructField(\"keywords\", StringType(), True)\n",
        "])\n",
        "\n",
        "data_path = \"/content/0.txt\"\n",
        "df = spark.read.csv(data_path, schema=schema, sep=\" \", header=False)\n",
        "\n",
        "\n",
        "df = df.withColumn(\"keywords\", split(col(\"keywords\"), \" \"))\n",
        "\n",
        "\n",
        "def haversine(lat1, lon1, lat2, lon2):\n",
        "    R = 6371\n",
        "    phi1, phi2 = math.radians(lat1), math.radians(lat2)\n",
        "    delta_phi = math.radians(lat2 - lat1)\n",
        "    delta_lambda = math.radians(lon2 - lon1)\n",
        "\n",
        "    a = math.sin(delta_phi / 2.0) ** 2 + math.cos(phi1) * math.cos(phi2) * math.sin(delta_lambda / 2.0) ** 2\n",
        "    return 2 * R * math.asin(math.sqrt(a))\n",
        "\n",
        "\n",
        "from pyspark.sql.functions import udf\n",
        "distance_udf = udf(lambda lat1, lon1, lat2, lon2: haversine(lat1, lon1, lat2, lon2), FloatType())\n",
        "spark.udf.register(\"haversine\", distance_udf)\n",
        "\n",
        "def process_query_window(query):\n",
        "    lat, lon, pos_keyword, neg_keyword, k = query\n",
        "\n",
        "\n",
        "    search_radius = 10\n",
        "    min_lat, max_lat = lat - search_radius, lat + search_radius\n",
        "    min_lon, max_lon = lon - search_radius, lon + search_radius\n",
        "\n",
        "\n",
        "    window_df = df.filter((col(\"latitude\") >= min_lat) & (col(\"latitude\") <= max_lat) &\n",
        "                           (col(\"longitude\") >= min_lon) & (col(\"longitude\") <= max_lon))\n",
        "\n",
        "    filtered_df = window_df.filter(array_contains(col(\"keywords\"), pos_keyword) &\n",
        "                                   ~array_contains(col(\"keywords\"), neg_keyword))\n",
        "\n",
        "    filtered_df = filtered_df.withColumn(\"distance\", distance_udf(col(\"latitude\"), col(\"longitude\"), lit(lat), lit(lon)))\n",
        "\n",
        "    results = filtered_df.orderBy(\"distance\").limit(k)\n",
        "\n",
        "    return results.collect()\n",
        "\n",
        "query_list = [\n",
        "    (33.8298, -118.3510, \"crafts\", \"fabrics\", 3),\n",
        "    (42.3503, -71.1044, \"performance\", \"threat\", 5),\n",
        "    (37.9179, 127.0628, \"quadruple\", \"superhuman\", 3),\n",
        "    (-6.3190, 106.9200, \"lonely\", \"\", 3),\n",
        "    (35.1199, -89.9420, \"watch\", \"hulu\", 2)\n",
        "]\n",
        "\n",
        "query_results = [process_query_window(query) for query in query_list]\n",
        "\n",
        "flat_results = []\n",
        "for i, query in enumerate(query_list):\n",
        "    for row in query_results[i]:\n",
        "        flat_results.append((query[0], query[1], query[2], query[3], query[4], row.id, row.latitude, row.longitude, row.distance))\n",
        "\n",
        "flat_schema = StructType([\n",
        "    StructField(\"query_lat\", FloatType(), True),\n",
        "    StructField(\"query_lon\", FloatType(), True),\n",
        "    StructField(\"positive_keyword\", StringType(), True),\n",
        "    StructField(\"negative_keyword\", StringType(), True),\n",
        "    StructField(\"top_k\", IntegerType(), True),\n",
        "    StructField(\"location_id\", IntegerType(), True),\n",
        "    StructField(\"location_lat\", FloatType(), True),\n",
        "    StructField(\"location_lon\", FloatType(), True),\n",
        "    StructField(\"distance\", FloatType(), True)\n",
        "])\n",
        "\n",
        "results_df = spark.createDataFrame(flat_results, schema=flat_schema)\n",
        "\n",
        "output_path = \"power_results.csv\"\n",
        "results_df.write.csv(output_path, mode=\"overwrite\", header=True)\n",
        "\n",
        "print(\"power query saved to:\", output_path)\n"
      ],
      "metadata": {
        "id": "KrQoVH5MS-q7",
        "colab": {
          "base_uri": "https://localhost:8080/"
        },
        "outputId": "adc1a98c-018d-43b9-9cfb-26cb76c95203"
      },
      "execution_count": 57,
      "outputs": [
        {
          "output_type": "stream",
          "name": "stdout",
          "text": [
            "power query saved to: power_results.csv\n"
          ]
        }
      ]
    },
    {
      "cell_type": "code",
      "source": [],
      "metadata": {
        "id": "TdC4757abgCt"
      },
      "execution_count": null,
      "outputs": []
    }
  ]
}