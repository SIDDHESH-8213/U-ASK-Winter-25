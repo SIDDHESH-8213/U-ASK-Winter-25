{
  "nbformat": 4,
  "nbformat_minor": 0,
  "metadata": {
    "colab": {
      "provenance": [],
      "include_colab_link": true
    },
    "kernelspec": {
      "name": "python3",
      "display_name": "Python 3"
    },
    "language_info": {
      "name": "python"
    }
  },
  "cells": [
    {
      "cell_type": "markdown",
      "metadata": {
        "id": "view-in-github",
        "colab_type": "text"
      },
      "source": [
        "<a href=\"https://colab.research.google.com/github/SIDDHESH-8213/U-ASK-Winter-25/blob/main/U_ASK.ipynb\" target=\"_parent\"><img src=\"https://colab.research.google.com/assets/colab-badge.svg\" alt=\"Open In Colab\"/></a>"
      ]
    },
    {
      "cell_type": "code",
      "execution_count": null,
      "metadata": {
        "id": "U_v_OOWuWA3P"
      },
      "outputs": [],
      "source": [
        "import numpy as np\n",
        "from rtree import index\n",
        "from collections import defaultdict\n",
        "from math import sqrt\n",
        "import pandas as pd\n"
      ]
    },
    {
      "cell_type": "code",
      "source": [
        "def load_data_from_folder(folder_path):\n",
        "    dataset = []\n",
        "\n",
        "    # ✅ Traverse all subfolders & files\n",
        "    for root, _, files in os.walk(folder_path):\n",
        "        for file in files:\n",
        "            if file.endswith(\".txt\"):  # Ensure only .txt files are read\n",
        "                file_path = os.path.join(root, file)\n",
        "\n",
        "                # ✅ Read and parse each file\n",
        "                with open(file_path, \"r\") as f:\n",
        "                    for line in f:\n",
        "                        parts = line.strip().split()\n",
        "                        obj_id = int(parts[0])\n",
        "                        lat, lon = float(parts[1]), float(parts[2])\n",
        "                        keyword_count = int(parts[3])\n",
        "\n",
        "                        # Extract keyword names (skip weights)\n",
        "                        keywords = [parts[i] for i in range(4, 4 + keyword_count * 2, 2)]\n",
        "\n",
        "                        dataset.append((obj_id, lat, lon, keywords))  # ✅ Store as a list\n",
        "\n",
        "    return dataset\n",
        "\n",
        "# ✅ Define the path where your dataset is uploaded in Colab\n",
        "dataset_folder = \"/content/dataset_folder\"  # Change this based on your actual path\n",
        "\n",
        "# ✅ Load the dataset\n",
        "data = load_data_from_folder(dataset_folder)\n",
        "\n",
        "# ✅ Convert to Pandas DataFrame for easy visualization\n",
        "df = pd.DataFrame(data, columns=[\"Object ID\", \"Latitude\", \"Longitude\", \"Keywords\"])\n",
        "\n",
        "# ✅ Display first 5 records\n",
        "print(df.head())\n"
      ],
      "metadata": {
        "colab": {
          "base_uri": "https://localhost:8080/"
        },
        "id": "LdLRgn23XBpb",
        "outputId": "8c85654b-0037-410e-ec02-7c06ce79a256"
      },
      "execution_count": null,
      "outputs": [
        {
          "output_type": "stream",
          "name": "stdout",
          "text": [
            "Sample Data: [(100000, 43.03428148, -76.01928945, ['red', '2', 'gourmet', 'burgers']), (100001, 28.74179078, -81.33426307, ['damn']), (100002, 38.52931226, -121.43124996, ['didn', 'score', 'give', 'put']), (100003, -6.19467, 106.82103, ['pinky']), (100004, -30.0997213, -51.1593094, ['neon', 'night', 'wanna', 'party', 'lights'])]\n"
          ]
        }
      ]
    },
    {
      "cell_type": "code",
      "source": [],
      "metadata": {
        "id": "eCSSO_PvWadV"
      },
      "execution_count": null,
      "outputs": []
    },
    {
      "cell_type": "code",
      "source": [
        "spatial_idx = index.Index()\n",
        "\n",
        "# ✅ Corrected tuple unpacking\n",
        "for obj_id, lat, lon, keywords in data:\n",
        "    spatial_idx.insert(obj_id, (lon, lat, lon, lat))  # Insert into R-tree\n",
        "\n",
        "# ✅ Test: Find the nearest location to (-118.25, 34.0)\n",
        "nearest = list(spatial_idx.nearest((-118.25, 34.0, -118.25, 34.0), 1))\n",
        "\n",
        "print(\"Nearest location ID now:\", nearest)\n",
        "\n",
        "# ✅ Debugging: Check if spatial index has data\n",
        "print(f\"Total locations indexed: {len(data)}\")  # Should match dataset size\n"
      ],
      "metadata": {
        "colab": {
          "base_uri": "https://localhost:8080/"
        },
        "id": "qzKK5hMlZ-6n",
        "outputId": "c820b052-d9bd-48ab-b240-33e0e11c6508"
      },
      "execution_count": null,
      "outputs": [
        {
          "output_type": "stream",
          "name": "stdout",
          "text": [
            "Nearest location ID now: [136400]\n",
            "Total locations indexed: 100000\n"
          ]
        }
      ]
    },
    {
      "cell_type": "code",
      "source": [
        "keyword_index = defaultdict(list)\n",
        "\n",
        "for obj_id, lat, lon, keywords in data:\n",
        "    for keyword in keywords:\n",
        "        keyword_index[keyword].append(obj_id)\n",
        "\n",
        "#again, just for testing\n",
        "print(\"Places that serve good burgers:\", keyword_index[\"burgers\"])\n"
      ],
      "metadata": {
        "colab": {
          "base_uri": "https://localhost:8080/"
        },
        "id": "aAMTQy4na1GS",
        "outputId": "2487d2bd-503a-485f-c0da-72fae284ee00"
      },
      "execution_count": null,
      "outputs": [
        {
          "output_type": "stream",
          "name": "stdout",
          "text": [
            "Places that serve good burgers: [100000, 107529, 123991, 125641, 130720, 133192, 137851, 141867, 151424, 152299, 155560, 156863, 176072, 176077, 195706]\n"
          ]
        }
      ]
    },
    {
      "cell_type": "code",
      "source": [
        "def distance(lat1, lon1, lat2, lon2):\n",
        "    \"\"\"Calculate Euclidean distance (simplified for small areas).\"\"\"\n",
        "    return sqrt((lat1 - lat2) ** 2 + (lon1 - lon2) ** 2)\n"
      ],
      "metadata": {
        "id": "qnuj-GV2bV_g"
      },
      "execution_count": null,
      "outputs": []
    },
    {
      "cell_type": "code",
      "source": [
        "def tkqn_query(lat, lon, positive_keywords, negative_keywords, k=3):\n",
        "    nearby_ids = list(spatial_idx.nearest((lon, lat, lon, lat), k * 5))  # Fetch more candidates\n",
        "\n",
        "    results = []\n",
        "    for obj_id in nearby_ids:\n",
        "        entry = next(d for d in data if d[0] == obj_id)\n",
        "        obj_lat, obj_lon, obj_keywords = entry[1], entry[2], entry[3]\n",
        "\n",
        "        # 🔍 Debug print to check which places are found\n",
        "        print(f\"DEBUG: Checking {obj_id} - Keywords: {obj_keywords}\")\n",
        "\n",
        "        # Check negative keywords\n",
        "        if any(neg in obj_keywords for neg in negative_keywords):\n",
        "            print(f\"❌ Excluded {obj_id} (Contains {negative_keywords})\")\n",
        "            continue\n",
        "\n",
        "        # Check positive keywords\n",
        "        if not any(pos in obj_keywords for pos in positive_keywords):\n",
        "            print(f\"⚠️ Skipping {obj_id} (Doesn't contain {positive_keywords})\")\n",
        "            continue\n",
        "\n",
        "        # Compute distance & add to results\n",
        "        dist = distance(lat, lon, obj_lat, obj_lon)\n",
        "        results.append((obj_id, dist))\n",
        "\n",
        "    results.sort(key=lambda x: x[1])  # Sort by distance\n",
        "    return results[:k]\n"
      ],
      "metadata": {
        "id": "qnOle6z5N5_Z"
      },
      "execution_count": null,
      "outputs": []
    },
    {
      "cell_type": "code",
      "source": [
        "top_places = tkqn_query(34.05, -118.25, [\"sunset\"], [\"rooftop\"], k=3)\n",
        "print(\"Top places:\", top_places)\n"
      ],
      "metadata": {
        "colab": {
          "base_uri": "https://localhost:8080/"
        },
        "id": "3r3xmLitOD6V",
        "outputId": "da9abe86-6cd3-4e30-87b0-1c5218a0e682"
      },
      "execution_count": null,
      "outputs": [
        {
          "output_type": "stream",
          "name": "stdout",
          "text": [
            "DEBUG: Checking 124596 - Keywords: ['rocks', 'tasting', 'downtown', 'wine']\n",
            "⚠️ Skipping 124596 (Doesn't contain ['sunset'])\n",
            "DEBUG: Checking 172197 - Keywords: ['releasing', 'heart']\n",
            "⚠️ Skipping 172197 (Doesn't contain ['sunset'])\n",
            "DEBUG: Checking 155698 - Keywords: ['running', 'deadly', 'pull', 'cars', 'pedestrians', 'hitting', 'people', 'weapons', 'lights']\n",
            "⚠️ Skipping 155698 (Doesn't contain ['sunset'])\n",
            "DEBUG: Checking 141718 - Keywords: ['minds', 'simple', 'people', 'thinking']\n",
            "⚠️ Skipping 141718 (Doesn't contain ['sunset'])\n",
            "DEBUG: Checking 191746 - Keywords: ['trait', 'determination', 'resourcefulness']\n",
            "⚠️ Skipping 191746 (Doesn't contain ['sunset'])\n",
            "DEBUG: Checking 119664 - Keywords: ['reports', 'meets', 'challenges', 'year', 'spina', 'inspirational', 'girl', 'long']\n",
            "⚠️ Skipping 119664 (Doesn't contain ['sunset'])\n",
            "DEBUG: Checking 194619 - Keywords: ['awards', 'event']\n",
            "⚠️ Skipping 194619 (Doesn't contain ['sunset'])\n",
            "DEBUG: Checking 195455 - Keywords: ['concert']\n",
            "⚠️ Skipping 195455 (Doesn't contain ['sunset'])\n",
            "DEBUG: Checking 142671 - Keywords: ['birthday', 'forgotten', 'realize']\n",
            "⚠️ Skipping 142671 (Doesn't contain ['sunset'])\n",
            "DEBUG: Checking 153176 - Keywords: ['head', 'score', 'comedy', 'show', 'run', 'kill']\n",
            "⚠️ Skipping 153176 (Doesn't contain ['sunset'])\n",
            "DEBUG: Checking 155407 - Keywords: ['found']\n",
            "⚠️ Skipping 155407 (Doesn't contain ['sunset'])\n",
            "DEBUG: Checking 147252 - Keywords: ['tonight']\n",
            "⚠️ Skipping 147252 (Doesn't contain ['sunset'])\n",
            "DEBUG: Checking 179989 - Keywords: ['postseason']\n",
            "⚠️ Skipping 179989 (Doesn't contain ['sunset'])\n",
            "DEBUG: Checking 184351 - Keywords: ['view', 'night', 'sunset', 'rooftop']\n",
            "❌ Excluded 184351 (Contains ['rooftop'])\n",
            "DEBUG: Checking 191751 - Keywords: ['happening', 'downtown']\n",
            "⚠️ Skipping 191751 (Doesn't contain ['sunset'])\n",
            "DEBUG: Checking 120945 - Keywords: ['sunset', 'cityscape', 'downtown', 'landscape']\n",
            "Top places: [(120945, 0.0063323459633270445)]\n"
          ]
        }
      ]
    },
    {
      "cell_type": "code",
      "source": [
        "def batch_queries(queries):\n",
        "    results = {}\n",
        "\n",
        "    # ✅ Group queries based on common spatial locations to minimize redundant searches\n",
        "    location_groups = {}\n",
        "    for query in queries:\n",
        "        lat, lon, pos_keywords, neg_keywords, k = query\n",
        "        key = (lat, lon)  # Group by location\n",
        "\n",
        "        if key not in location_groups:\n",
        "            location_groups[key] = []\n",
        "        location_groups[key].append((pos_keywords, neg_keywords, k))\n",
        "\n",
        "    # ✅ Process queries in batches\n",
        "    for (lat, lon), query_list in location_groups.items():\n",
        "        # Find nearby locations **only once** per unique location\n",
        "        nearby_ids = list(spatial_idx.nearest((lon, lat, lon, lat), max(k for _, _, k in query_list) * 5))\n",
        "\n",
        "        # ✅ Process each query separately but reuse the nearby locations\n",
        "        for pos_keywords, neg_keywords, k in query_list:\n",
        "            query_results = []\n",
        "\n",
        "            for obj_id in nearby_ids:\n",
        "                entry = next(d for d in data if d[0] == obj_id)\n",
        "                obj_lat, obj_lon, obj_keywords = entry[1], entry[2], entry[3]\n",
        "\n",
        "                if any(neg in obj_keywords for neg in neg_keywords):  # Exclude negative keywords\n",
        "                    continue\n",
        "\n",
        "                if not any(pos in obj_keywords for pos in pos_keywords):  # Must match at least one positive keyword\n",
        "                    continue\n",
        "\n",
        "                # Compute distance\n",
        "                dist = distance(lat, lon, obj_lat, obj_lon)\n",
        "                query_results.append((obj_id, dist))\n",
        "\n",
        "            query_results.sort(key=lambda x: x[1])\n",
        "            results[(lat, lon, tuple(pos_keywords), tuple(neg_keywords), k)] = query_results[:k]\n",
        "\n",
        "    return results\n",
        "\n",
        "\n",
        "query_list = [\n",
        "    (34.05, -118.25, [\"sunset\"], [\"rooftop\"], 3),\n",
        "    (33.8, -118.3, [\"downtown\"], [\"wine\"], 3),\n",
        "    (34.05, -118.25, [\"people\"], [\"thinking\"], 3),  # Shares location with first query\n",
        "]\n",
        "\n",
        "batch_results = batch_queries(query_list)\n",
        "\n",
        "# ✅ Print results in a readable format\n",
        "for query, result in batch_results.items():\n",
        "    print(f\"\\nQuery: {query}\")\n",
        "    print(f\"Results: {result}\")\n"
      ],
      "metadata": {
        "colab": {
          "base_uri": "https://localhost:8080/"
        },
        "id": "p0t-4fEgOHgp",
        "outputId": "b9197d55-c8a5-452b-a1ca-58b2802fc7d5"
      },
      "execution_count": null,
      "outputs": [
        {
          "output_type": "stream",
          "name": "stdout",
          "text": [
            "\n",
            "Query: (34.05, -118.25, ('sunset',), ('rooftop',), 3)\n",
            "Results: [(120945, 0.0063323459633270445)]\n",
            "\n",
            "Query: (34.05, -118.25, ('people',), ('thinking',), 3)\n",
            "Results: [(155698, 0.0033140921305820623)]\n",
            "\n",
            "Query: (33.8, -118.3, ('downtown',), ('wine',), 3)\n",
            "Results: []\n"
          ]
        }
      ]
    },
    {
      "cell_type": "code",
      "source": [],
      "metadata": {
        "id": "KrQoVH5MS-q7"
      },
      "execution_count": null,
      "outputs": []
    }
  ]
}